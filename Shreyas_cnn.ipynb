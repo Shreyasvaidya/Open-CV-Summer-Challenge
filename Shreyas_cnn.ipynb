{
  "cells": [
    {
      "cell_type": "markdown",
      "metadata": {
        "id": "zI6aeZ7qix8g"
      },
      "source": [
        "# Loading Data"
      ]
    },
    {
      "cell_type": "markdown",
      "metadata": {
        "id": "tNZaRpSFi6LT"
      },
      "source": [
        "# Imports"
      ]
    },
    {
      "cell_type": "code",
      "execution_count": 1,
      "metadata": {
        "id": "PKeuXVNERsc-"
      },
      "outputs": [
        {
          "ename": "ModuleNotFoundError",
          "evalue": "No module named 'otsu'",
          "output_type": "error",
          "traceback": [
            "\u001b[1;31m---------------------------------------------------------------------------\u001b[0m",
            "\u001b[1;31mModuleNotFoundError\u001b[0m                       Traceback (most recent call last)",
            "\u001b[1;32md:\\Shreyas\\Shreyas_study\\vision_Challenges\\Shreyas_cnn.ipynb Cell 3\u001b[0m in \u001b[0;36m<cell line: 21>\u001b[1;34m()\u001b[0m\n\u001b[0;32m     <a href='vscode-notebook-cell:/d%3A/Shreyas/Shreyas_study/vision_Challenges/Shreyas_cnn.ipynb#W2sZmlsZQ%3D%3D?line=18'>19</a>\u001b[0m \u001b[39mfrom\u001b[39;00m \u001b[39msklearn\u001b[39;00m\u001b[39m.\u001b[39;00m\u001b[39mmetrics\u001b[39;00m \u001b[39mimport\u001b[39;00m roc_curve, auc\n\u001b[0;32m     <a href='vscode-notebook-cell:/d%3A/Shreyas/Shreyas_study/vision_Challenges/Shreyas_cnn.ipynb#W2sZmlsZQ%3D%3D?line=19'>20</a>\u001b[0m \u001b[39mimport\u001b[39;00m \u001b[39mrandom\u001b[39;00m\n\u001b[1;32m---> <a href='vscode-notebook-cell:/d%3A/Shreyas/Shreyas_study/vision_Challenges/Shreyas_cnn.ipynb#W2sZmlsZQ%3D%3D?line=20'>21</a>\u001b[0m \u001b[39mfrom\u001b[39;00m \u001b[39motsu\u001b[39;00m \u001b[39mimport\u001b[39;00m otsu\n",
            "\u001b[1;31mModuleNotFoundError\u001b[0m: No module named 'otsu'"
          ]
        }
      ],
      "source": [
        "from torch.utils.data import Dataset\n",
        "from torchvision import transforms\n",
        "from PIL import Image\n",
        "import pandas as pd\n",
        "import os\n",
        "import torch\n",
        "\n",
        "from tqdm import tqdm\n",
        "import pickle\n",
        "from torch import nn\n",
        "from torch.optim import Adam,RMSprop\n",
        "from torch.utils.data import DataLoader\n",
        "import matplotlib.pyplot as plt\n",
        "import math\n",
        "from PIL import Image\n",
        "import numpy as np\n",
        "import pandas as pd\n",
        "from sklearn.metrics import f1_score, roc_auc_score\n",
        "from sklearn.metrics import roc_curve, auc\n",
        "import random\n",
        "from otsu import otsu\n"
      ]
    },
    {
      "cell_type": "markdown",
      "metadata": {
        "id": "b8xBWB4FkjfQ"
      },
      "source": [
        "# Creating Dataloader"
      ]
    },
    {
      "cell_type": "code",
      "execution_count": 2,
      "metadata": {
        "colab": {
          "base_uri": "https://localhost:8080/"
        },
        "id": "bCU7jy-wT7hD",
        "outputId": "a3ada429-d5c9-4aa9-82ef-bd36fb158100"
      },
      "outputs": [
        {
          "name": "stderr",
          "output_type": "stream",
          "text": [
            "0it [00:00, ?it/s]"
          ]
        },
        {
          "name": "stderr",
          "output_type": "stream",
          "text": [
            "1352it [00:08, 152.59it/s]\n"
          ]
        }
      ],
      "source": [
        "#creating list of image pairs with combinations and labels of 1 or 0\n",
        "path = r'dataset\\dataset\\train'\n",
        "img_label_list = []\n",
        "\n",
        "count = 0\n",
        "authors = os.listdir(path)\n",
        "for i,author_name in tqdm(enumerate(authors)):\n",
        "  other_list = authors[i:i+2] if i<len(authors)-1 else authors[i:]\n",
        "  for author_name2 in other_list:\n",
        "    label = 1 if author_name == author_name2 else 0\n",
        "    for img1 in os.listdir(os.path.join(path,author_name)):\n",
        "      for img2 in os.listdir(os.path.join(path,author_name2)):\n",
        "        if(author_name != author_name2 or img1 !=img2):\n",
        "\n",
        "          \n",
        "          img_label_list.append([os.path.join(path,author_name,img1),os.path.join(path,author_name2,img2),label])\n",
        "         "
      ]
    },
    {
      "cell_type": "code",
      "execution_count": 3,
      "metadata": {
        "colab": {
          "base_uri": "https://localhost:8080/"
        },
        "id": "NXhWUavyBLok",
        "outputId": "b4a037da-c2e7-41c2-ffe2-0e96e7ee4e17"
      },
      "outputs": [
        {
          "data": {
            "text/plain": [
              "183859"
            ]
          },
          "execution_count": 3,
          "metadata": {},
          "output_type": "execute_result"
        }
      ],
      "source": [
        "len(img_label_list)"
      ]
    },
    {
      "cell_type": "code",
      "execution_count": null,
      "metadata": {},
      "outputs": [],
      "source": []
    },
    {
      "cell_type": "code",
      "execution_count": 4,
      "metadata": {
        "id": "MlkF0lCtRGnw"
      },
      "outputs": [],
      "source": [
        "class SiameseDataset(Dataset):\n",
        "  def __init__(self,array,path= None,transform = None):\n",
        "    self.array =array\n",
        "    self.transform = transform\n",
        "    self.path = path\n",
        "  def __getitem__(self,index):\n",
        "    \n",
        "    indexlist = self.array[index]\n",
        "      \n",
        "    if self.path is None:\n",
        "      img0 = Image.open(indexlist[0])\n",
        "      img1 = Image.open(indexlist[1])\n",
        "    else:\n",
        "      img0 = Image.open(os.path.join(self.path,indexlist[0]))\n",
        "      img1 = Image.open(os.path.join(self.path,indexlist[1]))\n",
        "    \n",
        "    label = indexlist[2]\n",
        "    img0 = img0.convert(\"L\")\n",
        "    img1 = img1.convert(\"L\")\n",
        "    \n",
        "    threshold = 128\n",
        "    bw_image0 = img0.point(lambda x: 0 if x < threshold else 1, \"1\")\n",
        "    bw_image1 = img1.point(lambda x: 0 if x < threshold else 1, \"1\")\n",
        "    \n",
        "    if self.transform is not None:\n",
        "      bw_image0 = self.transform(bw_image0)\n",
        "      bw_image1 = self.transform(bw_image1)\n",
        "    #converting grayscale to binary\n",
        "    \n",
        "    \n",
        "    return bw_image0,bw_image1,label\n",
        "  def __len__(self):\n",
        "    return len(self.array)"
      ]
    },
    {
      "cell_type": "code",
      "execution_count": 5,
      "metadata": {},
      "outputs": [],
      "source": [
        "class AddGaussianNoise(object):\n",
        "    def __init__(self, mean=0., std=0.05):\n",
        "        self.std = std\n",
        "        self.mean = mean\n",
        "        \n",
        "    def __call__(self, tensor):\n",
        "        return tensor + torch.randn(tensor.size()) * self.std + self.mean\n",
        "    \n"
      ]
    },
    {
      "cell_type": "code",
      "execution_count": 6,
      "metadata": {},
      "outputs": [],
      "source": [
        "mytransform = transforms.Compose([transforms.Resize((250,25)),\n",
        "                                  transforms.RandomRotation(22.5),\n",
        "                                  \n",
        "                                transforms.ToTensor(),\n",
        "                                AddGaussianNoise()])"
      ]
    },
    {
      "cell_type": "code",
      "execution_count": 7,
      "metadata": {
        "id": "HpqVn7aY1nUL"
      },
      "outputs": [],
      "source": [
        "random.shuffle(img_label_list)\n",
        "siamese_dataset = SiameseDataset(img_label_list,transform=mytransform)\n",
        "\n"
      ]
    },
    {
      "cell_type": "code",
      "execution_count": 15,
      "metadata": {
        "id": "2wOyO6V2lIcD"
      },
      "outputs": [],
      "source": [
        "train_dataloader = DataLoader(siamese_dataset,batch_size = 512)"
      ]
    },
    {
      "cell_type": "code",
      "execution_count": null,
      "metadata": {},
      "outputs": [],
      "source": []
    },
    {
      "cell_type": "code",
      "execution_count": 11,
      "metadata": {
        "id": "JbZbFUIsLmtn"
      },
      "outputs": [],
      "source": [
        "train_dataloader1 = DataLoader(siamese_dataset,batch_size = 1)"
      ]
    },
    {
      "cell_type": "code",
      "execution_count": 9,
      "metadata": {},
      "outputs": [
        {
          "data": {
            "text/html": [
              "<div>\n",
              "<style scoped>\n",
              "    .dataframe tbody tr th:only-of-type {\n",
              "        vertical-align: middle;\n",
              "    }\n",
              "\n",
              "    .dataframe tbody tr th {\n",
              "        vertical-align: top;\n",
              "    }\n",
              "\n",
              "    .dataframe thead th {\n",
              "        text-align: right;\n",
              "    }\n",
              "</style>\n",
              "<table border=\"1\" class=\"dataframe\">\n",
              "  <thead>\n",
              "    <tr style=\"text-align: right;\">\n",
              "      <th></th>\n",
              "      <th>img1_name</th>\n",
              "      <th>img2_name</th>\n",
              "      <th>label</th>\n",
              "    </tr>\n",
              "  </thead>\n",
              "  <tbody>\n",
              "    <tr>\n",
              "      <th>0</th>\n",
              "      <td>70a4ba9a.jpg</td>\n",
              "      <td>58f68a00.jpg</td>\n",
              "      <td>1</td>\n",
              "    </tr>\n",
              "    <tr>\n",
              "      <th>1</th>\n",
              "      <td>e15b612e.jpg</td>\n",
              "      <td>16ce5df2.jpg</td>\n",
              "      <td>0</td>\n",
              "    </tr>\n",
              "    <tr>\n",
              "      <th>2</th>\n",
              "      <td>6c64d988.jpg</td>\n",
              "      <td>735d3636.jpg</td>\n",
              "      <td>1</td>\n",
              "    </tr>\n",
              "    <tr>\n",
              "      <th>3</th>\n",
              "      <td>b74681a6.jpg</td>\n",
              "      <td>cb50496d.jpg</td>\n",
              "      <td>0</td>\n",
              "    </tr>\n",
              "    <tr>\n",
              "      <th>4</th>\n",
              "      <td>c97aa428.jpg</td>\n",
              "      <td>6f9dc747.jpg</td>\n",
              "      <td>1</td>\n",
              "    </tr>\n",
              "    <tr>\n",
              "      <th>...</th>\n",
              "      <td>...</td>\n",
              "      <td>...</td>\n",
              "      <td>...</td>\n",
              "    </tr>\n",
              "    <tr>\n",
              "      <th>5765</th>\n",
              "      <td>4e7762f7.jpg</td>\n",
              "      <td>2f3d2bce.jpg</td>\n",
              "      <td>0</td>\n",
              "    </tr>\n",
              "    <tr>\n",
              "      <th>5766</th>\n",
              "      <td>c1c49f87.jpg</td>\n",
              "      <td>1072597f.jpg</td>\n",
              "      <td>0</td>\n",
              "    </tr>\n",
              "    <tr>\n",
              "      <th>5767</th>\n",
              "      <td>03e66099.jpg</td>\n",
              "      <td>f877b1b6.jpg</td>\n",
              "      <td>1</td>\n",
              "    </tr>\n",
              "    <tr>\n",
              "      <th>5768</th>\n",
              "      <td>8e056e51.jpg</td>\n",
              "      <td>f68e79a1.jpg</td>\n",
              "      <td>1</td>\n",
              "    </tr>\n",
              "    <tr>\n",
              "      <th>5769</th>\n",
              "      <td>acd11d73.jpg</td>\n",
              "      <td>7eae060a.jpg</td>\n",
              "      <td>0</td>\n",
              "    </tr>\n",
              "  </tbody>\n",
              "</table>\n",
              "<p>5770 rows × 3 columns</p>\n",
              "</div>"
            ],
            "text/plain": [
              "         img1_name     img2_name  label\n",
              "0     70a4ba9a.jpg  58f68a00.jpg      1\n",
              "1     e15b612e.jpg  16ce5df2.jpg      0\n",
              "2     6c64d988.jpg  735d3636.jpg      1\n",
              "3     b74681a6.jpg  cb50496d.jpg      0\n",
              "4     c97aa428.jpg  6f9dc747.jpg      1\n",
              "...            ...           ...    ...\n",
              "5765  4e7762f7.jpg  2f3d2bce.jpg      0\n",
              "5766  c1c49f87.jpg  1072597f.jpg      0\n",
              "5767  03e66099.jpg  f877b1b6.jpg      1\n",
              "5768  8e056e51.jpg  f68e79a1.jpg      1\n",
              "5769  acd11d73.jpg  7eae060a.jpg      0\n",
              "\n",
              "[5770 rows x 3 columns]"
            ]
          },
          "execution_count": 9,
          "metadata": {},
          "output_type": "execute_result"
        }
      ],
      "source": [
        "df = pd.read_csv(r'D:\\Shreyas\\Shreyas_study\\vision_Challenges\\dataset\\dataset\\val.csv')\n",
        "df"
      ]
    },
    {
      "cell_type": "code",
      "execution_count": 10,
      "metadata": {},
      "outputs": [],
      "source": [
        "val_dataset = SiameseDataset(np.array(df),path = r'D:\\Shreyas\\Shreyas_study\\vision_Challenges\\dataset\\dataset\\val',transform=mytransform)"
      ]
    },
    {
      "cell_type": "code",
      "execution_count": 11,
      "metadata": {},
      "outputs": [],
      "source": [
        "val_dataloader = DataLoader(val_dataset)"
      ]
    },
    {
      "cell_type": "markdown",
      "metadata": {
        "id": "MysR98Wjk-Gp"
      },
      "source": [
        "# Training the model"
      ]
    },
    {
      "cell_type": "code",
      "execution_count": 12,
      "metadata": {
        "id": "DhCdYUSr1xaR"
      },
      "outputs": [],
      "source": [
        "#create a siamese network\n",
        "class SiameseNetwork(nn.Module):\n",
        "    def __init__(self):\n",
        "        super(SiameseNetwork, self).__init__()\n",
        "        # Defining the fully connected layers\n",
        "        self.cnn1 = nn.Sequential(\n",
        "            nn.Conv2d(1, 1, kernel_size=3,stride=1),\n",
        "            nn.MaxPool2d(3, stride=1),\n",
        "            \n",
        "           \n",
        "            \n",
        "\n",
        "           \n",
        "        )\n",
        "\n",
        "\n",
        "\n",
        "        # Defining the fully connected layers\n",
        "        self.fc1 = nn.Sequential(\n",
        "            \n",
        "           \n",
        "            \n",
        "            nn.Linear(5166, 4096),\n",
        "        \n",
        "            nn.ReLU(inplace=True),\n",
        "            \n",
        "            nn.Linear(4096, 1024),\n",
        "        \n",
        "            nn.ReLU(inplace=True),\n",
        "           \n",
        "            nn.Linear(1024, 128),\n",
        "            nn.ReLU(inplace=True),\n",
        "\n",
        "            nn.Linear(128,2)\n",
        "           \n",
        "            )\n",
        "\n",
        "            \n",
        "        \n",
        "        \n",
        "    def forward_once(self, x):\n",
        "        # Forward pass \n",
        "        output = self.cnn1(x)\n",
        "        output = output.view(output.size()[0], -1)\n",
        "        output = self.fc1(output)\n",
        "        return output\n",
        "\n",
        "        \n",
        "   \n",
        "\n",
        "        \n",
        "\n",
        "    def forward(self, input1, input2):\n",
        "        # forward pass of input 1\n",
        "        output1 = self.forward_once(input1)\n",
        "        # forward pass of input 2\n",
        "        output2 = self.forward_once(input2)\n",
        "        return output1, output2\n"
      ]
    },
    {
      "cell_type": "code",
      "execution_count": 13,
      "metadata": {
        "id": "TGgK_zrC189r"
      },
      "outputs": [],
      "source": [
        "class ContrastiveLoss(torch.nn.Module):\n",
        "    \"\"\"\n",
        "    Contrastive loss function.\n",
        "    Based on:\n",
        "    \"\"\"\n",
        "\n",
        "    def __init__(self, margin=1.0):\n",
        "        super(ContrastiveLoss, self).__init__()\n",
        "        self.margin = margin\n",
        "\n",
        "    def forward(self, x0, x1, y):\n",
        "        # euclidian distance\n",
        "        diff = x0 - x1\n",
        "        dist_sq = torch.sum(torch.pow(diff, 2), 1)\n",
        "        dist = torch.sqrt(dist_sq)\n",
        "        \n",
        "        mdist = self.margin - dist\n",
        "        dist = torch.clamp(mdist, min=0.0)\n",
        "        loss = y * dist_sq + (1 - y) * torch.pow(dist, 2) \n",
        "        \n",
        "        loss = torch.sum(loss) / 2.0 / x0.size()[0]\n",
        "        return loss"
      ]
    },
    {
      "cell_type": "code",
      "execution_count": 17,
      "metadata": {
        "colab": {
          "background_save": true,
          "base_uri": "https://localhost:8080/"
        },
        "id": "_Ut0mo3j2EVk",
        "outputId": "d961b095-ed17-4e5a-8c87-1da4f50c432f"
      },
      "outputs": [
        {
          "name": "stderr",
          "output_type": "stream",
          "text": [
            "  4%|▍         | 15/360 [03:14<1:14:27, 12.95s/it]\n"
          ]
        },
        {
          "ename": "KeyboardInterrupt",
          "evalue": "",
          "output_type": "error",
          "traceback": [
            "\u001b[1;31m---------------------------------------------------------------------------\u001b[0m",
            "\u001b[1;31mKeyboardInterrupt\u001b[0m                         Traceback (most recent call last)",
            "\u001b[1;32md:\\Shreyas\\Shreyas_study\\vision_Challenges\\Shreyas_cnn.ipynb Cell 21\u001b[0m in \u001b[0;36m<cell line: 58>\u001b[1;34m()\u001b[0m\n\u001b[0;32m     <a href='vscode-notebook-cell:/d%3A/Shreyas/Shreyas_study/vision_Challenges/Shreyas_cnn.ipynb#X26sZmlsZQ%3D%3D?line=56'>57</a>\u001b[0m device \u001b[39m=\u001b[39m torch\u001b[39m.\u001b[39mdevice(\u001b[39m'\u001b[39m\u001b[39mcuda\u001b[39m\u001b[39m'\u001b[39m \u001b[39mif\u001b[39;00m torch\u001b[39m.\u001b[39mcuda\u001b[39m.\u001b[39mis_available() \u001b[39melse\u001b[39;00m \u001b[39m'\u001b[39m\u001b[39mcpu\u001b[39m\u001b[39m'\u001b[39m)\n\u001b[0;32m     <a href='vscode-notebook-cell:/d%3A/Shreyas/Shreyas_study/vision_Challenges/Shreyas_cnn.ipynb#X26sZmlsZQ%3D%3D?line=57'>58</a>\u001b[0m \u001b[39mfor\u001b[39;00m i \u001b[39min\u001b[39;00m \u001b[39mrange\u001b[39m(\u001b[39m1\u001b[39m,n_epochs\u001b[39m+\u001b[39m\u001b[39m1\u001b[39m):\n\u001b[1;32m---> <a href='vscode-notebook-cell:/d%3A/Shreyas/Shreyas_study/vision_Challenges/Shreyas_cnn.ipynb#X26sZmlsZQ%3D%3D?line=58'>59</a>\u001b[0m     train(i)\n\u001b[0;32m     <a href='vscode-notebook-cell:/d%3A/Shreyas/Shreyas_study/vision_Challenges/Shreyas_cnn.ipynb#X26sZmlsZQ%3D%3D?line=59'>60</a>\u001b[0m     test(i)\n\u001b[0;32m     <a href='vscode-notebook-cell:/d%3A/Shreyas/Shreyas_study/vision_Challenges/Shreyas_cnn.ipynb#X26sZmlsZQ%3D%3D?line=60'>61</a>\u001b[0m     counter\u001b[39m.\u001b[39mappend(i)\n",
            "\u001b[1;32md:\\Shreyas\\Shreyas_study\\vision_Challenges\\Shreyas_cnn.ipynb Cell 21\u001b[0m in \u001b[0;36mtrain\u001b[1;34m(epoch)\u001b[0m\n\u001b[0;32m     <a href='vscode-notebook-cell:/d%3A/Shreyas/Shreyas_study/vision_Challenges/Shreyas_cnn.ipynb#X26sZmlsZQ%3D%3D?line=12'>13</a>\u001b[0m net\u001b[39m.\u001b[39mtrain()\n\u001b[0;32m     <a href='vscode-notebook-cell:/d%3A/Shreyas/Shreyas_study/vision_Challenges/Shreyas_cnn.ipynb#X26sZmlsZQ%3D%3D?line=13'>14</a>\u001b[0m tloss \u001b[39m=\u001b[39m \u001b[39m0\u001b[39m\n\u001b[1;32m---> <a href='vscode-notebook-cell:/d%3A/Shreyas/Shreyas_study/vision_Challenges/Shreyas_cnn.ipynb#X26sZmlsZQ%3D%3D?line=14'>15</a>\u001b[0m \u001b[39mfor\u001b[39;00m data \u001b[39min\u001b[39;00m tqdm(train_dataloader):\n\u001b[0;32m     <a href='vscode-notebook-cell:/d%3A/Shreyas/Shreyas_study/vision_Challenges/Shreyas_cnn.ipynb#X26sZmlsZQ%3D%3D?line=15'>16</a>\u001b[0m     img0, img1 , label \u001b[39m=\u001b[39m data\n\u001b[0;32m     <a href='vscode-notebook-cell:/d%3A/Shreyas/Shreyas_study/vision_Challenges/Shreyas_cnn.ipynb#X26sZmlsZQ%3D%3D?line=16'>17</a>\u001b[0m         \u001b[39m#img0, img1 , label = img0.cuda(), img1.cuda() , label.cuda()\u001b[39;00m\n",
            "File \u001b[1;32mc:\\ProgramData\\miniconda3\\lib\\site-packages\\tqdm\\std.py:1195\u001b[0m, in \u001b[0;36mtqdm.__iter__\u001b[1;34m(self)\u001b[0m\n\u001b[0;32m   1192\u001b[0m time \u001b[39m=\u001b[39m \u001b[39mself\u001b[39m\u001b[39m.\u001b[39m_time\n\u001b[0;32m   1194\u001b[0m \u001b[39mtry\u001b[39;00m:\n\u001b[1;32m-> 1195\u001b[0m     \u001b[39mfor\u001b[39;00m obj \u001b[39min\u001b[39;00m iterable:\n\u001b[0;32m   1196\u001b[0m         \u001b[39myield\u001b[39;00m obj\n\u001b[0;32m   1197\u001b[0m         \u001b[39m# Update and possibly print the progressbar.\u001b[39;00m\n\u001b[0;32m   1198\u001b[0m         \u001b[39m# Note: does not call self.update(1) for speed optimisation.\u001b[39;00m\n",
            "File \u001b[1;32mc:\\ProgramData\\miniconda3\\lib\\site-packages\\torch\\utils\\data\\dataloader.py:633\u001b[0m, in \u001b[0;36m_BaseDataLoaderIter.__next__\u001b[1;34m(self)\u001b[0m\n\u001b[0;32m    630\u001b[0m \u001b[39mif\u001b[39;00m \u001b[39mself\u001b[39m\u001b[39m.\u001b[39m_sampler_iter \u001b[39mis\u001b[39;00m \u001b[39mNone\u001b[39;00m:\n\u001b[0;32m    631\u001b[0m     \u001b[39m# TODO(https://github.com/pytorch/pytorch/issues/76750)\u001b[39;00m\n\u001b[0;32m    632\u001b[0m     \u001b[39mself\u001b[39m\u001b[39m.\u001b[39m_reset()  \u001b[39m# type: ignore[call-arg]\u001b[39;00m\n\u001b[1;32m--> 633\u001b[0m data \u001b[39m=\u001b[39m \u001b[39mself\u001b[39;49m\u001b[39m.\u001b[39;49m_next_data()\n\u001b[0;32m    634\u001b[0m \u001b[39mself\u001b[39m\u001b[39m.\u001b[39m_num_yielded \u001b[39m+\u001b[39m\u001b[39m=\u001b[39m \u001b[39m1\u001b[39m\n\u001b[0;32m    635\u001b[0m \u001b[39mif\u001b[39;00m \u001b[39mself\u001b[39m\u001b[39m.\u001b[39m_dataset_kind \u001b[39m==\u001b[39m _DatasetKind\u001b[39m.\u001b[39mIterable \u001b[39mand\u001b[39;00m \\\n\u001b[0;32m    636\u001b[0m         \u001b[39mself\u001b[39m\u001b[39m.\u001b[39m_IterableDataset_len_called \u001b[39mis\u001b[39;00m \u001b[39mnot\u001b[39;00m \u001b[39mNone\u001b[39;00m \u001b[39mand\u001b[39;00m \\\n\u001b[0;32m    637\u001b[0m         \u001b[39mself\u001b[39m\u001b[39m.\u001b[39m_num_yielded \u001b[39m>\u001b[39m \u001b[39mself\u001b[39m\u001b[39m.\u001b[39m_IterableDataset_len_called:\n",
            "File \u001b[1;32mc:\\ProgramData\\miniconda3\\lib\\site-packages\\torch\\utils\\data\\dataloader.py:677\u001b[0m, in \u001b[0;36m_SingleProcessDataLoaderIter._next_data\u001b[1;34m(self)\u001b[0m\n\u001b[0;32m    675\u001b[0m \u001b[39mdef\u001b[39;00m \u001b[39m_next_data\u001b[39m(\u001b[39mself\u001b[39m):\n\u001b[0;32m    676\u001b[0m     index \u001b[39m=\u001b[39m \u001b[39mself\u001b[39m\u001b[39m.\u001b[39m_next_index()  \u001b[39m# may raise StopIteration\u001b[39;00m\n\u001b[1;32m--> 677\u001b[0m     data \u001b[39m=\u001b[39m \u001b[39mself\u001b[39;49m\u001b[39m.\u001b[39;49m_dataset_fetcher\u001b[39m.\u001b[39;49mfetch(index)  \u001b[39m# may raise StopIteration\u001b[39;00m\n\u001b[0;32m    678\u001b[0m     \u001b[39mif\u001b[39;00m \u001b[39mself\u001b[39m\u001b[39m.\u001b[39m_pin_memory:\n\u001b[0;32m    679\u001b[0m         data \u001b[39m=\u001b[39m _utils\u001b[39m.\u001b[39mpin_memory\u001b[39m.\u001b[39mpin_memory(data, \u001b[39mself\u001b[39m\u001b[39m.\u001b[39m_pin_memory_device)\n",
            "File \u001b[1;32mc:\\ProgramData\\miniconda3\\lib\\site-packages\\torch\\utils\\data\\_utils\\fetch.py:51\u001b[0m, in \u001b[0;36m_MapDatasetFetcher.fetch\u001b[1;34m(self, possibly_batched_index)\u001b[0m\n\u001b[0;32m     49\u001b[0m         data \u001b[39m=\u001b[39m \u001b[39mself\u001b[39m\u001b[39m.\u001b[39mdataset\u001b[39m.\u001b[39m__getitems__(possibly_batched_index)\n\u001b[0;32m     50\u001b[0m     \u001b[39melse\u001b[39;00m:\n\u001b[1;32m---> 51\u001b[0m         data \u001b[39m=\u001b[39m [\u001b[39mself\u001b[39m\u001b[39m.\u001b[39mdataset[idx] \u001b[39mfor\u001b[39;00m idx \u001b[39min\u001b[39;00m possibly_batched_index]\n\u001b[0;32m     52\u001b[0m \u001b[39melse\u001b[39;00m:\n\u001b[0;32m     53\u001b[0m     data \u001b[39m=\u001b[39m \u001b[39mself\u001b[39m\u001b[39m.\u001b[39mdataset[possibly_batched_index]\n",
            "File \u001b[1;32mc:\\ProgramData\\miniconda3\\lib\\site-packages\\torch\\utils\\data\\_utils\\fetch.py:51\u001b[0m, in \u001b[0;36m<listcomp>\u001b[1;34m(.0)\u001b[0m\n\u001b[0;32m     49\u001b[0m         data \u001b[39m=\u001b[39m \u001b[39mself\u001b[39m\u001b[39m.\u001b[39mdataset\u001b[39m.\u001b[39m__getitems__(possibly_batched_index)\n\u001b[0;32m     50\u001b[0m     \u001b[39melse\u001b[39;00m:\n\u001b[1;32m---> 51\u001b[0m         data \u001b[39m=\u001b[39m [\u001b[39mself\u001b[39;49m\u001b[39m.\u001b[39;49mdataset[idx] \u001b[39mfor\u001b[39;00m idx \u001b[39min\u001b[39;00m possibly_batched_index]\n\u001b[0;32m     52\u001b[0m \u001b[39melse\u001b[39;00m:\n\u001b[0;32m     53\u001b[0m     data \u001b[39m=\u001b[39m \u001b[39mself\u001b[39m\u001b[39m.\u001b[39mdataset[possibly_batched_index]\n",
            "\u001b[1;32md:\\Shreyas\\Shreyas_study\\vision_Challenges\\Shreyas_cnn.ipynb Cell 21\u001b[0m in \u001b[0;36mSiameseDataset.__getitem__\u001b[1;34m(self, index)\u001b[0m\n\u001b[0;32m     <a href='vscode-notebook-cell:/d%3A/Shreyas/Shreyas_study/vision_Challenges/Shreyas_cnn.ipynb#X26sZmlsZQ%3D%3D?line=20'>21</a>\u001b[0m threshold \u001b[39m=\u001b[39m \u001b[39m128\u001b[39m\n\u001b[0;32m     <a href='vscode-notebook-cell:/d%3A/Shreyas/Shreyas_study/vision_Challenges/Shreyas_cnn.ipynb#X26sZmlsZQ%3D%3D?line=21'>22</a>\u001b[0m bw_image0 \u001b[39m=\u001b[39m img0\u001b[39m.\u001b[39mpoint(\u001b[39mlambda\u001b[39;00m x: \u001b[39m0\u001b[39m \u001b[39mif\u001b[39;00m x \u001b[39m<\u001b[39m threshold \u001b[39melse\u001b[39;00m \u001b[39m1\u001b[39m, \u001b[39m\"\u001b[39m\u001b[39m1\u001b[39m\u001b[39m\"\u001b[39m)\n\u001b[1;32m---> <a href='vscode-notebook-cell:/d%3A/Shreyas/Shreyas_study/vision_Challenges/Shreyas_cnn.ipynb#X26sZmlsZQ%3D%3D?line=22'>23</a>\u001b[0m bw_image1 \u001b[39m=\u001b[39m img1\u001b[39m.\u001b[39;49mpoint(\u001b[39mlambda\u001b[39;49;00m x: \u001b[39m0\u001b[39;49m \u001b[39mif\u001b[39;49;00m x \u001b[39m<\u001b[39;49m threshold \u001b[39melse\u001b[39;49;00m \u001b[39m1\u001b[39;49m, \u001b[39m\"\u001b[39;49m\u001b[39m1\u001b[39;49m\u001b[39m\"\u001b[39;49m)\n\u001b[0;32m     <a href='vscode-notebook-cell:/d%3A/Shreyas/Shreyas_study/vision_Challenges/Shreyas_cnn.ipynb#X26sZmlsZQ%3D%3D?line=24'>25</a>\u001b[0m \u001b[39mif\u001b[39;00m \u001b[39mself\u001b[39m\u001b[39m.\u001b[39mtransform \u001b[39mis\u001b[39;00m \u001b[39mnot\u001b[39;00m \u001b[39mNone\u001b[39;00m:\n\u001b[0;32m     <a href='vscode-notebook-cell:/d%3A/Shreyas/Shreyas_study/vision_Challenges/Shreyas_cnn.ipynb#X26sZmlsZQ%3D%3D?line=25'>26</a>\u001b[0m   bw_image0 \u001b[39m=\u001b[39m \u001b[39mself\u001b[39m\u001b[39m.\u001b[39mtransform(bw_image0)\n",
            "File \u001b[1;32mc:\\ProgramData\\miniconda3\\lib\\site-packages\\PIL\\Image.py:1833\u001b[0m, in \u001b[0;36mImage.point\u001b[1;34m(self, lut, mode)\u001b[0m\n\u001b[0;32m   1831\u001b[0m \u001b[39mif\u001b[39;00m mode \u001b[39m!=\u001b[39m \u001b[39m\"\u001b[39m\u001b[39mF\u001b[39m\u001b[39m\"\u001b[39m:\n\u001b[0;32m   1832\u001b[0m     lut \u001b[39m=\u001b[39m [\u001b[39mround\u001b[39m(i) \u001b[39mfor\u001b[39;00m i \u001b[39min\u001b[39;00m lut]\n\u001b[1;32m-> 1833\u001b[0m \u001b[39mreturn\u001b[39;00m \u001b[39mself\u001b[39m\u001b[39m.\u001b[39m_new(\u001b[39mself\u001b[39;49m\u001b[39m.\u001b[39;49mim\u001b[39m.\u001b[39;49mpoint(lut, mode))\n",
            "\u001b[1;31mKeyboardInterrupt\u001b[0m: "
          ]
        }
      ],
      "source": [
        "# Declare Siamese Network\n",
        "n_epochs = 1\n",
        "net = SiameseNetwork()#.cuda()\n",
        "# Decalre Loss Function\n",
        "criterion = ContrastiveLoss()\n",
        "# Declare Optimizer\n",
        "optimizer =RMSprop(net.parameters(), lr=1e-4, weight_decay=0.0005,momentum =0.9,eps = 1e-8)\n",
        "#train the model\n",
        "loss=[] \n",
        "counter=[]\n",
        "test_loss = []\n",
        "def train(epoch):\n",
        "    net.train()\n",
        "    tloss = 0\n",
        "    for data in tqdm(train_dataloader):\n",
        "        img0, img1 , label = data\n",
        "            #img0, img1 , label = img0.cuda(), img1.cuda() , label.cuda()\n",
        "        \n",
        "        optimizer.zero_grad()\n",
        "        output1,output2 = net(img0,img1)\n",
        "        \n",
        "        loss_contrastive = criterion(output1,output2,label)\n",
        "        \n",
        "        if(math.isnan(loss_contrastive.item())):\n",
        "            print(\"Nan\")\n",
        "            break\n",
        "        tloss+=(loss_contrastive.item())\n",
        "        loss_contrastive.backward()\n",
        "        optimizer.step()\n",
        "        \n",
        "        \n",
        "        \n",
        "    print(\"Epoch {}\\n Current loss {}\\n\".format(epoch,tloss/1437))\n",
        "    loss.append(tloss/1437)\n",
        "def test(epoch):\n",
        "    net.eval()\n",
        "    with torch.no_grad():\n",
        "        \n",
        "        loss = 0\n",
        "        for i in tqdm(val_dataloader):\n",
        "\n",
        "            img0,img1,label = i\n",
        "            #img0,img1 = img0.cuda(),img1.cuda()\n",
        "            output1,output2 = net(img0,img1)\n",
        "            sample_loss = criterion(output1,output2,label)\n",
        "            loss+=sample_loss.item()\n",
        "        \n",
        "        test_loss.append(loss/5770)\n",
        "        print(\"Epoch {}\\n Current test loss {}\\n\".format(epoch,loss/5700))\n",
        "    \n",
        "\n",
        "\n",
        "\n",
        "        \n",
        "#set the device to cuda\n",
        "\n",
        "device = torch.device('cuda' if torch.cuda.is_available() else 'cpu')\n",
        "for i in range(1,n_epochs+1):\n",
        "    train(i)\n",
        "    test(i)\n",
        "    counter.append(i)\n",
        "plt.plot(range(n_epochs),loss,color = 'blue',label = 'Train Loss')\n",
        "plt.plot(range(n_epochs),test_loss,color = 'red',label = 'Test Loss')\n",
        "plt.legend()\n",
        "plt.show()\n"
      ]
    },
    {
      "attachments": {},
      "cell_type": "markdown",
      "metadata": {},
      "source": [
        "REMBG !"
      ]
    },
    {
      "cell_type": "markdown",
      "metadata": {
        "id": "WnTgUk7PlTiC"
      },
      "source": [
        "# Testing"
      ]
    },
    {
      "cell_type": "code",
      "execution_count": null,
      "metadata": {
        "colab": {
          "base_uri": "https://localhost:8080/",
          "height": 81
        },
        "id": "84lJ7wF3U6Kw",
        "outputId": "2849a0bc-d4f6-4e1d-ea54-7d682c58be62"
      },
      "outputs": [
        {
          "data": {
            "image/png": "[encoded data removed]",
            "text/plain": [
              "<PIL.JpegImagePlugin.JpegImageFile image mode=L size=2722x172>"
            ]
          },
          "execution_count": 22,
          "metadata": {},
          "output_type": "execute_result"
        }
      ],
      "source": [
        "img0 = Image.open(img_label_list[405][0])\n",
        "img0"
      ]
    },
    {
      "cell_type": "code",
      "execution_count": null,
      "metadata": {
        "colab": {
          "base_uri": "https://localhost:8080/"
        },
        "id": "wwn9RvWikYiR",
        "outputId": "dabd56fc-3b26-4bf6-e71b-2e3d266db1ef"
      },
      "outputs": [
        {
          "data": {
            "text/plain": [
              "(2722, 172)"
            ]
          },
          "execution_count": 23,
          "metadata": {},
          "output_type": "execute_result"
        }
      ],
      "source": [
        "img0.size"
      ]
    },
    {
      "cell_type": "code",
      "execution_count": null,
      "metadata": {
        "colab": {
          "base_uri": "https://localhost:8080/",
          "height": 73
        },
        "id": "w4jKLMoEVYs0",
        "outputId": "052c7b9a-77f5-4032-8ce1-ae912a6d13b1"
      },
      "outputs": [
        {
          "data": {
            "image/png": "[encoded data removed]",
            "text/plain": [
              "<PIL.JpegImagePlugin.JpegImageFile image mode=L size=2934x182>"
            ]
          },
          "execution_count": 24,
          "metadata": {},
          "output_type": "execute_result"
        }
      ],
      "source": [
        "img1 = Image.open(img_label_list[405][1])\n",
        "img1"
      ]
    },
    {
      "cell_type": "code",
      "execution_count": null,
      "metadata": {
        "colab": {
          "base_uri": "https://localhost:8080/"
        },
        "id": "pAfdhopfVarx",
        "outputId": "8ed2a56f-a3fe-4678-e3a8-789cf0181b75"
      },
      "outputs": [
        {
          "data": {
            "text/plain": [
              "0"
            ]
          },
          "execution_count": 25,
          "metadata": {},
          "output_type": "execute_result"
        }
      ],
      "source": [
        "label = img_label_list[405][2]\n",
        "label"
      ]
    },
    {
      "cell_type": "code",
      "execution_count": null,
      "metadata": {
        "colab": {
          "base_uri": "https://localhost:8080/"
        },
        "id": "iVMToqKyBwBY",
        "outputId": "a5f496d0-8abd-4373-e720-2df1271f5238"
      },
      "outputs": [
        {
          "data": {
            "text/plain": [
              "(2722, 172)"
            ]
          },
          "execution_count": 26,
          "metadata": {},
          "output_type": "execute_result"
        }
      ],
      "source": [
        "img0.size"
      ]
    },
    {
      "cell_type": "code",
      "execution_count": null,
      "metadata": {
        "colab": {
          "base_uri": "https://localhost:8080/"
        },
        "id": "RIvV874XfY2-",
        "outputId": "8300d50c-357f-4071-f6da-ab616fed9ca0"
      },
      "outputs": [
        {
          "data": {
            "text/plain": [
              "(2934, 182)"
            ]
          },
          "execution_count": 27,
          "metadata": {},
          "output_type": "execute_result"
        }
      ],
      "source": [
        "img1.size"
      ]
    },
    {
      "cell_type": "code",
      "execution_count": null,
      "metadata": {},
      "outputs": [
        {
          "data": {
            "text/plain": [
              "<All keys matched successfully>"
            ]
          },
          "execution_count": 16,
          "metadata": {},
          "output_type": "execute_result"
        }
      ],
      "source": [
        "net = SiameseNetwork()\n",
        "net.load_state_dict(torch.load(r'D:\\Shreyas\\Shreyas_study\\vision_Challenges\\optim.pt'))"
      ]
    },
    {
      "cell_type": "code",
      "execution_count": null,
      "metadata": {
        "colab": {
          "base_uri": "https://localhost:8080/"
        },
        "id": "sXRh7jqUZyFy",
        "outputId": "5eb575a0-2a7f-40db-fe76-37b9ac658dc5"
      },
      "outputs": [
        {
          "name": "stderr",
          "output_type": "stream",
          "text": [
            "100%|██████████| 183859/183859 [59:01<00:00, 51.92it/s] \n"
          ]
        }
      ],
      "source": [
        "distances=np.zeros(183859)\n",
        "net.eval()\n",
        "with torch.no_grad():\n",
        "  sumdist = 0\n",
        "  counter = 0\n",
        "  batch_size = 1\n",
        "\n",
        "  for i in tqdm(train_dataloader1):\n",
        "      \n",
        "      img0,img1,label = i\n",
        "      \n",
        "      #img0,img1 = img0.cuda(),img1.cuda()\n",
        "      \n",
        "      output1,output2 = net(img0,img1)\n",
        "      diff = output1 - output2\n",
        "      dist_sq = torch.sum(torch.pow(diff, 2), 1)\n",
        "      \n",
        "      dist = torch.sqrt(dist_sq)\n",
        "      \n",
        "      # if(counter+batch_size-1<len(img_label_list)):\n",
        "      #   distances[counter:counter+batch_size] = dist.cpu()\n",
        "      #   counter+=batch_size\n",
        "      # else:\n",
        "      #   distances[counter:] = dist.cpu()\n",
        "# for i in tqdm(enumerate(val_dataloader)):\n",
        "#     img0,img1,_ = i\n",
        "#     #img0,img1 = img0.cuda(),img1.cuda()\n",
        "#     output1,output2 = model(img0,img1)\n",
        "#     diff = output1 - output2\n",
        "#     dist_sq = torch.sum(torch.pow(diff, 2), 1)\n",
        "#     dist = torch.sqrt(dist_sq)\n",
        "      \n",
        "\n",
        "      \n",
        "      \n"
      ]
    },
    {
      "cell_type": "code",
      "execution_count": null,
      "metadata": {},
      "outputs": [
        {
          "data": {
            "text/plain": [
              "94065"
            ]
          },
          "execution_count": 26,
          "metadata": {},
          "output_type": "execute_result"
        }
      ],
      "source": [
        "len(distances0)"
      ]
    },
    {
      "cell_type": "code",
      "execution_count": null,
      "metadata": {},
      "outputs": [
        {
          "data": {
            "text/plain": [
              "0.0"
            ]
          },
          "execution_count": 30,
          "metadata": {},
          "output_type": "execute_result"
        }
      ],
      "source": [
        "min(distances0)"
      ]
    },
    {
      "cell_type": "code",
      "execution_count": null,
      "metadata": {},
      "outputs": [
        {
          "data": {
            "image/png": "[encoded data removed]",
            "text/plain": [
              "<Figure size 432x288 with 1 Axes>"
            ]
          },
          "metadata": {
            "needs_background": "light"
          },
          "output_type": "display_data"
        }
      ],
      "source": [
        "import seaborn as sns\n",
        "sns.kdeplot(distances1,color = 'blue')\n",
        "sns.kdeplot(distances0,color= 'red')\n",
        "plt.show()\n"
      ]
    },
    {
      "cell_type": "code",
      "execution_count": null,
      "metadata": {},
      "outputs": [
        {
          "ename": "TypeError",
          "evalue": "object of type 'NoneType' has no len()",
          "output_type": "error",
          "traceback": [
            "\u001b[1;31m---------------------------------------------------------------------------\u001b[0m",
            "\u001b[1;31mTypeError\u001b[0m                                 Traceback (most recent call last)",
            "\u001b[1;32md:\\Shreyas\\Shreyas_study\\vision_Challenges\\Shreyas_cnn.ipynb Cell 37\u001b[0m in \u001b[0;36m<cell line: 2>\u001b[1;34m()\u001b[0m\n\u001b[0;32m      <a href='vscode-notebook-cell:/d%3A/Shreyas/Shreyas_study/vision_Challenges/Shreyas_cnn.ipynb#Y125sZmlsZQ%3D%3D?line=0'>1</a>\u001b[0m distances \u001b[39m=\u001b[39m distances1\u001b[39m.\u001b[39mextend(distances0)\n\u001b[1;32m----> <a href='vscode-notebook-cell:/d%3A/Shreyas/Shreyas_study/vision_Challenges/Shreyas_cnn.ipynb#Y125sZmlsZQ%3D%3D?line=1'>2</a>\u001b[0m random\u001b[39m.\u001b[39;49mshuffle(distances)\n",
            "File \u001b[1;32mc:\\ProgramData\\miniconda3\\lib\\random.py:391\u001b[0m, in \u001b[0;36mRandom.shuffle\u001b[1;34m(self, x, random)\u001b[0m\n\u001b[0;32m    389\u001b[0m \u001b[39mif\u001b[39;00m random \u001b[39mis\u001b[39;00m \u001b[39mNone\u001b[39;00m:\n\u001b[0;32m    390\u001b[0m     randbelow \u001b[39m=\u001b[39m \u001b[39mself\u001b[39m\u001b[39m.\u001b[39m_randbelow\n\u001b[1;32m--> 391\u001b[0m     \u001b[39mfor\u001b[39;00m i \u001b[39min\u001b[39;00m \u001b[39mreversed\u001b[39m(\u001b[39mrange\u001b[39m(\u001b[39m1\u001b[39m, \u001b[39mlen\u001b[39;49m(x))):\n\u001b[0;32m    392\u001b[0m         \u001b[39m# pick an element in x[:i+1] with which to exchange x[i]\u001b[39;00m\n\u001b[0;32m    393\u001b[0m         j \u001b[39m=\u001b[39m randbelow(i \u001b[39m+\u001b[39m \u001b[39m1\u001b[39m)\n\u001b[0;32m    394\u001b[0m         x[i], x[j] \u001b[39m=\u001b[39m x[j], x[i]\n",
            "\u001b[1;31mTypeError\u001b[0m: object of type 'NoneType' has no len()"
          ]
        }
      ],
      "source": [
        "distances1.extend(distances0)\n"
      ]
    },
    {
      "cell_type": "code",
      "execution_count": null,
      "metadata": {},
      "outputs": [],
      "source": [
        "distances = distances1\n",
        "random.shuffle(distances)"
      ]
    },
    {
      "cell_type": "code",
      "execution_count": null,
      "metadata": {},
      "outputs": [
        {
          "data": {
            "text/plain": [
              "94065"
            ]
          },
          "execution_count": 30,
          "metadata": {},
          "output_type": "execute_result"
        }
      ],
      "source": []
    },
    {
      "cell_type": "code",
      "execution_count": null,
      "metadata": {
        "colab": {
          "base_uri": "https://localhost:8080/",
          "height": 435
        },
        "id": "0T7sT69tkPbz",
        "outputId": "52d4dedf-8800-4c26-ecad-326db3a442f4"
      },
      "outputs": [
        {
          "data": {
            "image/png": "[encoded data removed]",
            "text/plain": [
              "<Figure size 432x288 with 1 Axes>"
            ]
          },
          "metadata": {
            "needs_background": "light"
          },
          "output_type": "display_data"
        }
      ],
      "source": [
        "_,probabilities = sns.ecdfplot(distances).get_lines()[0].get_data()"
      ]
    },
    {
      "cell_type": "code",
      "execution_count": null,
      "metadata": {
        "id": "hvJX5Qnekd25"
      },
      "outputs": [],
      "source": [
        "def get_nearest_index(test_distance,array = sorted(distances)):\n",
        "    array = np.asarray(array)\n",
        "    \n",
        "    return ((np.abs(array-test_distance)).argmin() if test_distance<max(array) else len(array)-1)"
      ]
    },
    {
      "cell_type": "code",
      "execution_count": null,
      "metadata": {
        "id": "xKSBRCjYkkdZ"
      },
      "outputs": [],
      "source": [
        "def get_label_and_probability(test_distance,prob_array = probabilities[:-1]):\n",
        "  idx = get_nearest_index(test_distance)\n",
        "  prob = prob_array[idx]\n",
        "  return (1,1-prob) if prob<0.5 else (0,1-prob)"
      ]
    },
    {
      "cell_type": "code",
      "execution_count": null,
      "metadata": {
        "id": "3IqBWDP2k6C5"
      },
      "outputs": [],
      "source": [
        "transform=transforms.Compose([transforms.Resize((250,25)),\n",
        "                                                              transforms.ToTensor()\n",
        "                                                                      ])"
      ]
    },
    {
      "cell_type": "code",
      "execution_count": null,
      "metadata": {
        "id": "9aZOh1RgBpbl"
      },
      "outputs": [],
      "source": [
        "val_dataset = SiameseDataset(np.array(df),path = r'D:\\Shreyas\\Shreyas_study\\vision_Challenges\\dataset\\dataset\\val',transform=mytransform)"
      ]
    },
    {
      "cell_type": "code",
      "execution_count": null,
      "metadata": {
        "id": "LU_Id_3QeKGv"
      },
      "outputs": [],
      "source": [
        "val_dataloader = DataLoader(val_dataset)"
      ]
    },
    {
      "cell_type": "code",
      "execution_count": null,
      "metadata": {
        "colab": {
          "base_uri": "https://localhost:8080/"
        },
        "id": "qqYL_Di_knb7",
        "outputId": "26dff04f-341a-4426-d270-ffc248c0ac18"
      },
      "outputs": [
        {
          "name": "stderr",
          "output_type": "stream",
          "text": [
            "5770it [06:16, 15.31it/s]\n"
          ]
        }
      ],
      "source": [
        "with torch.no_grad():\n",
        "  \n",
        "  y_pred = np.zeros(5770)\n",
        "  y_prob  = np.zeros(5770)\n",
        "\n",
        "  for count,i in tqdm(enumerate(val_dataloader)):\n",
        "    img0,img1,_ = i\n",
        "    #img0,img1 = img0.cuda(),img1.cuda()\n",
        "    output1,output2 = net(img0,img1)\n",
        "    diff = output1 - output2\n",
        "    dist_sq = torch.sum(torch.pow(diff, 2), 1)\n",
        "    dist = torch.sqrt(dist_sq)\n",
        "    \n",
        "    (label,prob) = get_label_and_probability(dist.item())\n",
        "    \n",
        "    y_pred[count] = label\n",
        "    y_prob[count] = prob\n",
        "    "
      ]
    },
    {
      "cell_type": "code",
      "execution_count": null,
      "metadata": {
        "id": "vpxVSErmMOw3"
      },
      "outputs": [],
      "source": [
        "y_true = df['label'].values"
      ]
    },
    {
      "cell_type": "code",
      "execution_count": null,
      "metadata": {
        "colab": {
          "base_uri": "https://localhost:8080/"
        },
        "id": "tkgZLTmQMQev",
        "outputId": "2ef4e0fa-fbd3-4240-93dc-0c9a366b11a4"
      },
      "outputs": [
        {
          "data": {
            "text/plain": [
              "0.5125348189415042"
            ]
          },
          "execution_count": 42,
          "metadata": {},
          "output_type": "execute_result"
        }
      ],
      "source": [
        "f1_score(y_true,y_pred)"
      ]
    },
    {
      "cell_type": "code",
      "execution_count": null,
      "metadata": {
        "colab": {
          "base_uri": "https://localhost:8080/"
        },
        "id": "ei6rYr0LMeNl",
        "outputId": "ccbe5902-9f5d-4a3a-cbe4-e66b3a857602"
      },
      "outputs": [
        {
          "data": {
            "text/plain": [
              "0.5177352528617212"
            ]
          },
          "execution_count": 43,
          "metadata": {},
          "output_type": "execute_result"
        }
      ],
      "source": [
        "roc_auc_score(y_true,y_prob)"
      ]
    },
    {
      "cell_type": "code",
      "execution_count": null,
      "metadata": {
        "id": "rqBmMrFv_mmy"
      },
      "outputs": [],
      "source": [
        "df['label'] = y_pred\n",
        "df['proba'] = y_prob"
      ]
    },
    {
      "cell_type": "code",
      "execution_count": null,
      "metadata": {
        "colab": {
          "base_uri": "https://localhost:8080/"
        },
        "id": "8Fcw_x4yd1Yk",
        "outputId": "d26b6280-4c77-477f-ab96-665862928dd7"
      },
      "outputs": [],
      "source": [
        "df2 = pd.DataFrame()\n",
        "df2['img1_name']  = df['img1_name']\n",
        "df2['img2_name']  = df['img2_name']\n",
        "df2['label'] = y_pred\n",
        "df2['proba'] = y_prob"
      ]
    },
    {
      "cell_type": "code",
      "execution_count": null,
      "metadata": {},
      "outputs": [
        {
          "data": {
            "text/html": [
              "<div>\n",
              "<style scoped>\n",
              "    .dataframe tbody tr th:only-of-type {\n",
              "        vertical-align: middle;\n",
              "    }\n",
              "\n",
              "    .dataframe tbody tr th {\n",
              "        vertical-align: top;\n",
              "    }\n",
              "\n",
              "    .dataframe thead th {\n",
              "        text-align: right;\n",
              "    }\n",
              "</style>\n",
              "<table border=\"1\" class=\"dataframe\">\n",
              "  <thead>\n",
              "    <tr style=\"text-align: right;\">\n",
              "      <th></th>\n",
              "      <th>img1_name</th>\n",
              "      <th>img2_name</th>\n",
              "      <th>label</th>\n",
              "      <th>proba</th>\n",
              "    </tr>\n",
              "  </thead>\n",
              "  <tbody>\n",
              "    <tr>\n",
              "      <th>0</th>\n",
              "      <td>70a4ba9a.jpg</td>\n",
              "      <td>58f68a00.jpg</td>\n",
              "      <td>1.0</td>\n",
              "      <td>0.786837</td>\n",
              "    </tr>\n",
              "    <tr>\n",
              "      <th>1</th>\n",
              "      <td>e15b612e.jpg</td>\n",
              "      <td>16ce5df2.jpg</td>\n",
              "      <td>0.0</td>\n",
              "      <td>0.000044</td>\n",
              "    </tr>\n",
              "    <tr>\n",
              "      <th>2</th>\n",
              "      <td>6c64d988.jpg</td>\n",
              "      <td>735d3636.jpg</td>\n",
              "      <td>1.0</td>\n",
              "      <td>0.537205</td>\n",
              "    </tr>\n",
              "    <tr>\n",
              "      <th>3</th>\n",
              "      <td>b74681a6.jpg</td>\n",
              "      <td>cb50496d.jpg</td>\n",
              "      <td>0.0</td>\n",
              "      <td>0.000174</td>\n",
              "    </tr>\n",
              "    <tr>\n",
              "      <th>4</th>\n",
              "      <td>c97aa428.jpg</td>\n",
              "      <td>6f9dc747.jpg</td>\n",
              "      <td>0.0</td>\n",
              "      <td>0.116252</td>\n",
              "    </tr>\n",
              "    <tr>\n",
              "      <th>...</th>\n",
              "      <td>...</td>\n",
              "      <td>...</td>\n",
              "      <td>...</td>\n",
              "      <td>...</td>\n",
              "    </tr>\n",
              "    <tr>\n",
              "      <th>5765</th>\n",
              "      <td>4e7762f7.jpg</td>\n",
              "      <td>2f3d2bce.jpg</td>\n",
              "      <td>1.0</td>\n",
              "      <td>0.500144</td>\n",
              "    </tr>\n",
              "    <tr>\n",
              "      <th>5766</th>\n",
              "      <td>c1c49f87.jpg</td>\n",
              "      <td>1072597f.jpg</td>\n",
              "      <td>0.0</td>\n",
              "      <td>0.018819</td>\n",
              "    </tr>\n",
              "    <tr>\n",
              "      <th>5767</th>\n",
              "      <td>03e66099.jpg</td>\n",
              "      <td>f877b1b6.jpg</td>\n",
              "      <td>1.0</td>\n",
              "      <td>0.698329</td>\n",
              "    </tr>\n",
              "    <tr>\n",
              "      <th>5768</th>\n",
              "      <td>8e056e51.jpg</td>\n",
              "      <td>f68e79a1.jpg</td>\n",
              "      <td>1.0</td>\n",
              "      <td>0.891705</td>\n",
              "    </tr>\n",
              "    <tr>\n",
              "      <th>5769</th>\n",
              "      <td>acd11d73.jpg</td>\n",
              "      <td>7eae060a.jpg</td>\n",
              "      <td>0.0</td>\n",
              "      <td>0.434393</td>\n",
              "    </tr>\n",
              "  </tbody>\n",
              "</table>\n",
              "<p>5770 rows × 4 columns</p>\n",
              "</div>"
            ],
            "text/plain": [
              "         img1_name     img2_name  label     proba\n",
              "0     70a4ba9a.jpg  58f68a00.jpg    1.0  0.786837\n",
              "1     e15b612e.jpg  16ce5df2.jpg    0.0  0.000044\n",
              "2     6c64d988.jpg  735d3636.jpg    1.0  0.537205\n",
              "3     b74681a6.jpg  cb50496d.jpg    0.0  0.000174\n",
              "4     c97aa428.jpg  6f9dc747.jpg    0.0  0.116252\n",
              "...            ...           ...    ...       ...\n",
              "5765  4e7762f7.jpg  2f3d2bce.jpg    1.0  0.500144\n",
              "5766  c1c49f87.jpg  1072597f.jpg    0.0  0.018819\n",
              "5767  03e66099.jpg  f877b1b6.jpg    1.0  0.698329\n",
              "5768  8e056e51.jpg  f68e79a1.jpg    1.0  0.891705\n",
              "5769  acd11d73.jpg  7eae060a.jpg    0.0  0.434393\n",
              "\n",
              "[5770 rows x 4 columns]"
            ]
          },
          "execution_count": 95,
          "metadata": {},
          "output_type": "execute_result"
        }
      ],
      "source": [
        "df2"
      ]
    },
    {
      "cell_type": "code",
      "execution_count": null,
      "metadata": {},
      "outputs": [],
      "source": [
        "df2.to_csv(\"Open CV_02.csv\")"
      ]
    },
    {
      "cell_type": "code",
      "execution_count": null,
      "metadata": {
        "colab": {
          "base_uri": "https://localhost:8080/"
        },
        "id": "mDFQZ4yM_wLi",
        "outputId": "1fb47ee9-c728-47a3-a3da-ebc4f5be62ee"
      },
      "outputs": [
        {
          "name": "stderr",
          "output_type": "stream",
          "text": [
            "0it [00:00, ?it/s]/usr/local/lib/python3.10/dist-packages/torch/nn/functional.py:1331: UserWarning: dropout2d: Received a 2-D input to dropout2d, which is deprecated and will result in an error in a future release. To retain the behavior and silence this warning, please use dropout instead. Note that dropout2d exists to provide channel-wise dropout on inputs with 2 spatial dimensions, a channel dimension, and an optional batch dimension (i.e. 3D or 4D inputs).\n",
            "  warnings.warn(warn_msg)\n",
            "5770it [01:26, 66.72it/s]\n"
          ]
        }
      ],
      "source": [
        "threshold_dist = 9.2683e-06\n",
        "with torch.no_grad():\n",
        "  y_pred = np.zeros(5770)\n",
        "  for count,i in tqdm(enumerate(val_dataloader)):\n",
        "    path = '/content/dataset/val'\n",
        "    img0,img1,label = i\n",
        "    \n",
        "    img0,img1 = img0.cuda(),img1.cuda()\n",
        "    output1,output2 = net(img0,img1)\n",
        "    diff = output1 - output2\n",
        "    dist_sq = torch.sum(torch.pow(diff, 2), 1)\n",
        "    dist = torch.sqrt(dist_sq)\n",
        "    \n",
        "    y_pred[count] = 1 if dist[0] <= threshold_dist else 0\n",
        "    \n",
        "\n",
        "\n"
      ]
    },
    {
      "cell_type": "code",
      "execution_count": null,
      "metadata": {
        "id": "t5KrUJ60BcuV"
      },
      "outputs": [],
      "source": [
        "y_true = df['label'].values"
      ]
    },
    {
      "cell_type": "code",
      "execution_count": null,
      "metadata": {
        "colab": {
          "base_uri": "https://localhost:8080/"
        },
        "id": "3ob-XEweC0La",
        "outputId": "88255077-f697-4029-ab83-c521fdf710b2"
      },
      "outputs": [
        {
          "data": {
            "text/plain": [
              "0.598336210955894"
            ]
          },
          "execution_count": 37,
          "metadata": {},
          "output_type": "execute_result"
        }
      ],
      "source": [
        "f1_score(y_true, y_pred)"
      ]
    },
    {
      "cell_type": "code",
      "execution_count": null,
      "metadata": {},
      "outputs": [
        {
          "data": {
            "text/plain": [
              "0.5882648853058761"
            ]
          },
          "execution_count": 38,
          "metadata": {},
          "output_type": "execute_result"
        }
      ],
      "source": [
        "roc_auc_score(y_true,y_prob)"
      ]
    },
    {
      "cell_type": "code",
      "execution_count": null,
      "metadata": {
        "colab": {
          "base_uri": "https://localhost:8080/"
        },
        "id": "-XtNlBAdEzxF",
        "outputId": "82b8ff88-89be-4bad-df33-3c1af7204e63"
      },
      "outputs": [
        {
          "name": "stdout",
          "output_type": "stream",
          "text": [
            "torch.Size([128, 1, 250, 25])\n"
          ]
        }
      ],
      "source": [
        "for i in train_dataloader:\n",
        "  img0,img1,label = i\n",
        "  print(img0.size())\n",
        "  break"
      ]
    },
    {
      "cell_type": "code",
      "execution_count": null,
      "metadata": {
        "colab": {
          "base_uri": "https://localhost:8080/"
        },
        "id": "sMJFC4ZoFaL8",
        "outputId": "6aba761a-9609-4394-e35c-3f4165a32586"
      },
      "outputs": [
        {
          "name": "stdout",
          "output_type": "stream",
          "text": [
            "torch.Size([1, 1, 250, 25])\n"
          ]
        }
      ],
      "source": [
        "for i in img_label_list:\n",
        "  img0,img1,label = i\n",
        "  mlist= transform(Image.open(img0))\n",
        "  mlist = mlist[None,:,:,:]\n",
        "  print(mlist.size())\n",
        "  break"
      ]
    },
    {
      "cell_type": "code",
      "execution_count": null,
      "metadata": {},
      "outputs": [],
      "source": [
        "def train():\n",
        "    "
      ]
    }
  ],
  "metadata": {
    "accelerator": "GPU",
    "colab": {
      "provenance": []
    },
    "kernelspec": {
      "display_name": "Python 3",
      "name": "python3"
    },
    "language_info": {
      "codemirror_mode": {
        "name": "ipython",
        "version": 3
      },
      "file_extension": ".py",
      "mimetype": "text/x-python",
      "name": "python",
      "nbconvert_exporter": "python",
      "pygments_lexer": "ipython3",
      "version": "3.10.9"
    }
  },
  "nbformat": 4,
  "nbformat_minor": 0
}
